{
 "cells": [
  {
   "cell_type": "markdown",
   "id": "879cc7fb",
   "metadata": {},
   "source": [
    "# Task 1: Classification"
   ]
  },
  {
   "cell_type": "markdown",
   "id": "e34c90cf",
   "metadata": {},
   "source": [
    "- Initially we will import all the libraries which will be used in our assignment"
   ]
  },
  {
   "cell_type": "code",
   "execution_count": 725,
   "id": "5abdb505",
   "metadata": {},
   "outputs": [],
   "source": [
    "# Importing the libraries\n",
    "import numpy as np\n",
    "import pandas as pd\n",
    "from sklearn.cluster import KMeans\n",
    "import matplotlib.pyplot as plt\n",
    "import seaborn as sb\n",
    "from sklearn import preprocessing\n",
    "\n",
    "from sklearn import preprocessing\n",
    "from sklearn import metrics\n",
    "from sklearn.model_selection import train_test_split,GridSearchCV\n",
    "from sklearn.linear_model import LogisticRegression\n",
    "from sklearn.neighbors import KNeighborsClassifier\n",
    "from sklearn.tree import DecisionTreeClassifier\n",
    "from sklearn import svm\n",
    "import warnings\n",
    "warnings.filterwarnings(\"ignore\")\n"
   ]
  },
  {
   "cell_type": "code",
   "execution_count": 726,
   "id": "1671a6ed",
   "metadata": {},
   "outputs": [
    {
     "data": {
      "text/html": [
       "<div>\n",
       "<style scoped>\n",
       "    .dataframe tbody tr th:only-of-type {\n",
       "        vertical-align: middle;\n",
       "    }\n",
       "\n",
       "    .dataframe tbody tr th {\n",
       "        vertical-align: top;\n",
       "    }\n",
       "\n",
       "    .dataframe thead th {\n",
       "        text-align: right;\n",
       "    }\n",
       "</style>\n",
       "<table border=\"1\" class=\"dataframe\">\n",
       "  <thead>\n",
       "    <tr style=\"text-align: right;\">\n",
       "      <th></th>\n",
       "      <th>loan_status</th>\n",
       "      <th>Principal</th>\n",
       "      <th>terms</th>\n",
       "      <th>effective_date</th>\n",
       "      <th>due_date</th>\n",
       "      <th>age</th>\n",
       "      <th>education</th>\n",
       "      <th>Gender</th>\n",
       "    </tr>\n",
       "  </thead>\n",
       "  <tbody>\n",
       "    <tr>\n",
       "      <th>0</th>\n",
       "      <td>PAIDOFF</td>\n",
       "      <td>1000</td>\n",
       "      <td>30</td>\n",
       "      <td>9/8/2016</td>\n",
       "      <td>10/7/2016</td>\n",
       "      <td>45</td>\n",
       "      <td>High School or Below</td>\n",
       "      <td>male</td>\n",
       "    </tr>\n",
       "    <tr>\n",
       "      <th>1</th>\n",
       "      <td>PAIDOFF</td>\n",
       "      <td>1000</td>\n",
       "      <td>30</td>\n",
       "      <td>9/8/2016</td>\n",
       "      <td>10/7/2016</td>\n",
       "      <td>33</td>\n",
       "      <td>Bechalor</td>\n",
       "      <td>female</td>\n",
       "    </tr>\n",
       "    <tr>\n",
       "      <th>2</th>\n",
       "      <td>PAIDOFF</td>\n",
       "      <td>1000</td>\n",
       "      <td>15</td>\n",
       "      <td>9/8/2016</td>\n",
       "      <td>9/22/2016</td>\n",
       "      <td>27</td>\n",
       "      <td>college</td>\n",
       "      <td>male</td>\n",
       "    </tr>\n",
       "    <tr>\n",
       "      <th>3</th>\n",
       "      <td>PAIDOFF</td>\n",
       "      <td>1000</td>\n",
       "      <td>30</td>\n",
       "      <td>9/9/2016</td>\n",
       "      <td>10/8/2016</td>\n",
       "      <td>28</td>\n",
       "      <td>college</td>\n",
       "      <td>female</td>\n",
       "    </tr>\n",
       "    <tr>\n",
       "      <th>4</th>\n",
       "      <td>PAIDOFF</td>\n",
       "      <td>1000</td>\n",
       "      <td>30</td>\n",
       "      <td>9/9/2016</td>\n",
       "      <td>10/8/2016</td>\n",
       "      <td>29</td>\n",
       "      <td>college</td>\n",
       "      <td>male</td>\n",
       "    </tr>\n",
       "  </tbody>\n",
       "</table>\n",
       "</div>"
      ],
      "text/plain": [
       "  loan_status  Principal  terms effective_date   due_date  age  \\\n",
       "0     PAIDOFF       1000     30       9/8/2016  10/7/2016   45   \n",
       "1     PAIDOFF       1000     30       9/8/2016  10/7/2016   33   \n",
       "2     PAIDOFF       1000     15       9/8/2016  9/22/2016   27   \n",
       "3     PAIDOFF       1000     30       9/9/2016  10/8/2016   28   \n",
       "4     PAIDOFF       1000     30       9/9/2016  10/8/2016   29   \n",
       "\n",
       "              education  Gender  \n",
       "0  High School or Below    male  \n",
       "1              Bechalor  female  \n",
       "2               college    male  \n",
       "3               college  female  \n",
       "4               college    male  "
      ]
     },
     "execution_count": 726,
     "metadata": {},
     "output_type": "execute_result"
    }
   ],
   "source": [
    "# Loading the dataset and making dataframe\n",
    "yourdataframe = pd.read_csv(\"loan_train.csv\")\n",
    "yourdataframe_copy = yourdataframe\n",
    "yourdataframe.drop(yourdataframe.columns[[0,1]],axis=1,inplace = True)\n",
    "yourdataframe.head()"
   ]
  },
  {
   "cell_type": "code",
   "execution_count": 727,
   "id": "283e9691",
   "metadata": {},
   "outputs": [
    {
     "data": {
      "text/plain": [
       "(346, 8)"
      ]
     },
     "execution_count": 727,
     "metadata": {},
     "output_type": "execute_result"
    }
   ],
   "source": [
    "# Checking number of rows and columns\n",
    "yourdataframe.shape"
   ]
  },
  {
   "cell_type": "markdown",
   "id": "b2aa07cd",
   "metadata": {},
   "source": [
    "- In total we have 346 rows and 8 columns. Now I will remove the duplicate rows."
   ]
  },
  {
   "cell_type": "code",
   "execution_count": 728,
   "id": "077afb03",
   "metadata": {},
   "outputs": [],
   "source": [
    "# Removing duplicate rows \n",
    "yourdataframe.drop_duplicates(keep='first', inplace=True)"
   ]
  },
  {
   "cell_type": "code",
   "execution_count": 729,
   "id": "7e046eda",
   "metadata": {},
   "outputs": [
    {
     "data": {
      "text/html": [
       "<div>\n",
       "<style scoped>\n",
       "    .dataframe tbody tr th:only-of-type {\n",
       "        vertical-align: middle;\n",
       "    }\n",
       "\n",
       "    .dataframe tbody tr th {\n",
       "        vertical-align: top;\n",
       "    }\n",
       "\n",
       "    .dataframe thead th {\n",
       "        text-align: right;\n",
       "    }\n",
       "</style>\n",
       "<table border=\"1\" class=\"dataframe\">\n",
       "  <thead>\n",
       "    <tr style=\"text-align: right;\">\n",
       "      <th></th>\n",
       "      <th>Principal</th>\n",
       "      <th>terms</th>\n",
       "      <th>age</th>\n",
       "    </tr>\n",
       "  </thead>\n",
       "  <tbody>\n",
       "    <tr>\n",
       "      <th>count</th>\n",
       "      <td>306.000000</td>\n",
       "      <td>306.000000</td>\n",
       "      <td>306.000000</td>\n",
       "    </tr>\n",
       "    <tr>\n",
       "      <th>mean</th>\n",
       "      <td>940.196078</td>\n",
       "      <td>22.183007</td>\n",
       "      <td>31.179739</td>\n",
       "    </tr>\n",
       "    <tr>\n",
       "      <th>std</th>\n",
       "      <td>113.015134</td>\n",
       "      <td>8.048572</td>\n",
       "      <td>6.192305</td>\n",
       "    </tr>\n",
       "    <tr>\n",
       "      <th>min</th>\n",
       "      <td>300.000000</td>\n",
       "      <td>7.000000</td>\n",
       "      <td>18.000000</td>\n",
       "    </tr>\n",
       "    <tr>\n",
       "      <th>25%</th>\n",
       "      <td>800.000000</td>\n",
       "      <td>15.000000</td>\n",
       "      <td>27.000000</td>\n",
       "    </tr>\n",
       "    <tr>\n",
       "      <th>50%</th>\n",
       "      <td>1000.000000</td>\n",
       "      <td>30.000000</td>\n",
       "      <td>30.000000</td>\n",
       "    </tr>\n",
       "    <tr>\n",
       "      <th>75%</th>\n",
       "      <td>1000.000000</td>\n",
       "      <td>30.000000</td>\n",
       "      <td>35.000000</td>\n",
       "    </tr>\n",
       "    <tr>\n",
       "      <th>max</th>\n",
       "      <td>1000.000000</td>\n",
       "      <td>30.000000</td>\n",
       "      <td>51.000000</td>\n",
       "    </tr>\n",
       "  </tbody>\n",
       "</table>\n",
       "</div>"
      ],
      "text/plain": [
       "         Principal       terms         age\n",
       "count   306.000000  306.000000  306.000000\n",
       "mean    940.196078   22.183007   31.179739\n",
       "std     113.015134    8.048572    6.192305\n",
       "min     300.000000    7.000000   18.000000\n",
       "25%     800.000000   15.000000   27.000000\n",
       "50%    1000.000000   30.000000   30.000000\n",
       "75%    1000.000000   30.000000   35.000000\n",
       "max    1000.000000   30.000000   51.000000"
      ]
     },
     "execution_count": 729,
     "metadata": {},
     "output_type": "execute_result"
    }
   ],
   "source": [
    "# describing my dataframe\n",
    "yourdataframe.describe()"
   ]
  },
  {
   "cell_type": "code",
   "execution_count": 730,
   "id": "2b08acab",
   "metadata": {},
   "outputs": [
    {
     "data": {
      "text/plain": [
       "Index(['loan_status', 'Principal', 'terms', 'effective_date', 'due_date',\n",
       "       'age', 'education', 'Gender'],\n",
       "      dtype='object')"
      ]
     },
     "execution_count": 730,
     "metadata": {},
     "output_type": "execute_result"
    }
   ],
   "source": [
    "yourdataframe.columns"
   ]
  },
  {
   "cell_type": "markdown",
   "id": "2eef1600",
   "metadata": {},
   "source": [
    "- Now I am checking the empty rows in our dataframe"
   ]
  },
  {
   "cell_type": "code",
   "execution_count": 731,
   "id": "a1229385",
   "metadata": {},
   "outputs": [
    {
     "data": {
      "text/plain": [
       "loan_status       0\n",
       "Principal         0\n",
       "terms             0\n",
       "effective_date    0\n",
       "due_date          0\n",
       "age               0\n",
       "education         0\n",
       "Gender            0\n",
       "dtype: int64"
      ]
     },
     "execution_count": 731,
     "metadata": {},
     "output_type": "execute_result"
    }
   ],
   "source": [
    "yourdataframe.isna().sum()"
   ]
  },
  {
   "cell_type": "markdown",
   "id": "e9734f23",
   "metadata": {},
   "source": [
    "- Now lets print the overall information of the dataframe"
   ]
  },
  {
   "cell_type": "code",
   "execution_count": 732,
   "id": "58c9e28d",
   "metadata": {},
   "outputs": [
    {
     "name": "stdout",
     "output_type": "stream",
     "text": [
      "<class 'pandas.core.frame.DataFrame'>\n",
      "Int64Index: 306 entries, 0 to 345\n",
      "Data columns (total 8 columns):\n",
      " #   Column          Non-Null Count  Dtype \n",
      "---  ------          --------------  ----- \n",
      " 0   loan_status     306 non-null    object\n",
      " 1   Principal       306 non-null    int64 \n",
      " 2   terms           306 non-null    int64 \n",
      " 3   effective_date  306 non-null    object\n",
      " 4   due_date        306 non-null    object\n",
      " 5   age             306 non-null    int64 \n",
      " 6   education       306 non-null    object\n",
      " 7   Gender          306 non-null    object\n",
      "dtypes: int64(3), object(5)\n",
      "memory usage: 21.5+ KB\n"
     ]
    }
   ],
   "source": [
    "# complete information of data with datatypes of columns\n",
    "yourdataframe.info()"
   ]
  },
  {
   "cell_type": "markdown",
   "id": "158603c6",
   "metadata": {},
   "source": [
    "- Let's check the differrence of the outliers"
   ]
  },
  {
   "cell_type": "code",
   "execution_count": 733,
   "id": "6ea9914a",
   "metadata": {},
   "outputs": [
    {
     "name": "stdout",
     "output_type": "stream",
     "text": [
      "Principal    200.0\n",
      "terms         15.0\n",
      "age            8.0\n",
      "dtype: float64\n"
     ]
    }
   ],
   "source": [
    "# Difference of outliers  \n",
    "Q1 = yourdataframe.quantile(0.25)\n",
    "Q3 = yourdataframe.quantile(0.75)\n",
    "IQR = Q3 - Q1\n",
    "# Printing difference between outliers\n",
    "print(IQR)"
   ]
  },
  {
   "cell_type": "markdown",
   "id": "7cfe3abc",
   "metadata": {},
   "source": [
    "- Data Visualization by box plot to see mean, median and quartile values for our classification"
   ]
  },
  {
   "cell_type": "code",
   "execution_count": 734,
   "id": "2253e967",
   "metadata": {},
   "outputs": [
    {
     "data": {
      "image/png": "[encoded data removed]",
      "text/plain": [
       "<Figure size 360x216 with 1 Axes>"
      ]
     },
     "metadata": {
      "needs_background": "light"
     },
     "output_type": "display_data"
    },
    {
     "data": {
      "image/png": "[encoded data removed]",
      "text/plain": [
       "<Figure size 360x216 with 1 Axes>"
      ]
     },
     "metadata": {
      "needs_background": "light"
     },
     "output_type": "display_data"
    },
    {
     "data": {
      "image/png": "[encoded data removed]",
      "text/plain": [
       "<Figure size 360x216 with 1 Axes>"
      ]
     },
     "metadata": {
      "needs_background": "light"
     },
     "output_type": "display_data"
    }
   ],
   "source": [
    "# visualizing by box-ploting\n",
    "for i in yourdataframe.drop(columns = ['loan_status','education','Gender','effective_date','due_date']).columns:\n",
    "    plt.figure(figsize=(5,3))\n",
    "    sb.boxplot(y=i, data=yourdataframe, showmeans=True)\n",
    "    plt.show()"
   ]
  },
  {
   "cell_type": "markdown",
   "id": "a02bfbcf",
   "metadata": {},
   "source": [
    "## Question 2"
   ]
  },
  {
   "cell_type": "code",
   "execution_count": 735,
   "id": "5ba8f52c",
   "metadata": {},
   "outputs": [
    {
     "data": {
      "text/plain": [
       "array(['PAIDOFF', 'PAIDOFF', 'PAIDOFF', 'PAIDOFF', 'PAIDOFF', 'PAIDOFF',\n",
       "       'PAIDOFF', 'PAIDOFF', 'PAIDOFF', 'PAIDOFF', 'PAIDOFF', 'PAIDOFF',\n",
       "       'PAIDOFF', 'PAIDOFF', 'PAIDOFF', 'PAIDOFF', 'PAIDOFF', 'PAIDOFF',\n",
       "       'PAIDOFF', 'PAIDOFF', 'PAIDOFF', 'PAIDOFF', 'PAIDOFF', 'PAIDOFF',\n",
       "       'PAIDOFF', 'PAIDOFF', 'PAIDOFF', 'PAIDOFF', 'PAIDOFF', 'PAIDOFF',\n",
       "       'PAIDOFF', 'PAIDOFF', 'PAIDOFF', 'PAIDOFF', 'PAIDOFF', 'PAIDOFF',\n",
       "       'PAIDOFF', 'PAIDOFF', 'PAIDOFF', 'PAIDOFF', 'PAIDOFF', 'PAIDOFF',\n",
       "       'PAIDOFF', 'PAIDOFF', 'PAIDOFF', 'PAIDOFF', 'PAIDOFF', 'PAIDOFF',\n",
       "       'PAIDOFF', 'PAIDOFF', 'PAIDOFF', 'PAIDOFF', 'PAIDOFF', 'PAIDOFF',\n",
       "       'PAIDOFF', 'PAIDOFF', 'PAIDOFF', 'PAIDOFF', 'PAIDOFF', 'PAIDOFF',\n",
       "       'PAIDOFF', 'PAIDOFF', 'PAIDOFF', 'PAIDOFF', 'PAIDOFF', 'PAIDOFF',\n",
       "       'PAIDOFF', 'PAIDOFF', 'PAIDOFF', 'PAIDOFF', 'PAIDOFF', 'PAIDOFF',\n",
       "       'PAIDOFF', 'PAIDOFF', 'PAIDOFF', 'PAIDOFF', 'PAIDOFF', 'PAIDOFF',\n",
       "       'PAIDOFF', 'PAIDOFF', 'PAIDOFF', 'PAIDOFF', 'PAIDOFF', 'PAIDOFF',\n",
       "       'PAIDOFF', 'PAIDOFF', 'PAIDOFF', 'PAIDOFF', 'PAIDOFF', 'PAIDOFF',\n",
       "       'PAIDOFF', 'PAIDOFF', 'PAIDOFF', 'PAIDOFF', 'PAIDOFF', 'PAIDOFF',\n",
       "       'PAIDOFF', 'PAIDOFF', 'PAIDOFF', 'PAIDOFF', 'PAIDOFF', 'PAIDOFF',\n",
       "       'PAIDOFF', 'PAIDOFF', 'PAIDOFF', 'PAIDOFF', 'PAIDOFF', 'PAIDOFF',\n",
       "       'PAIDOFF', 'PAIDOFF', 'PAIDOFF', 'PAIDOFF', 'PAIDOFF', 'PAIDOFF',\n",
       "       'PAIDOFF', 'PAIDOFF', 'PAIDOFF', 'PAIDOFF', 'PAIDOFF', 'PAIDOFF',\n",
       "       'PAIDOFF', 'PAIDOFF', 'PAIDOFF', 'PAIDOFF', 'PAIDOFF', 'PAIDOFF',\n",
       "       'PAIDOFF', 'PAIDOFF', 'PAIDOFF', 'PAIDOFF', 'PAIDOFF', 'PAIDOFF',\n",
       "       'PAIDOFF', 'PAIDOFF', 'PAIDOFF', 'PAIDOFF', 'PAIDOFF', 'PAIDOFF',\n",
       "       'PAIDOFF', 'PAIDOFF', 'PAIDOFF', 'PAIDOFF', 'PAIDOFF', 'PAIDOFF',\n",
       "       'PAIDOFF', 'PAIDOFF', 'PAIDOFF', 'PAIDOFF', 'PAIDOFF', 'PAIDOFF',\n",
       "       'PAIDOFF', 'PAIDOFF', 'PAIDOFF', 'PAIDOFF', 'PAIDOFF', 'PAIDOFF',\n",
       "       'PAIDOFF', 'PAIDOFF', 'PAIDOFF', 'PAIDOFF', 'PAIDOFF', 'PAIDOFF',\n",
       "       'PAIDOFF', 'PAIDOFF', 'PAIDOFF', 'PAIDOFF', 'PAIDOFF', 'PAIDOFF',\n",
       "       'PAIDOFF', 'PAIDOFF', 'PAIDOFF', 'PAIDOFF', 'PAIDOFF', 'PAIDOFF',\n",
       "       'PAIDOFF', 'PAIDOFF', 'PAIDOFF', 'PAIDOFF', 'PAIDOFF', 'PAIDOFF',\n",
       "       'PAIDOFF', 'PAIDOFF', 'PAIDOFF', 'PAIDOFF', 'PAIDOFF', 'PAIDOFF',\n",
       "       'PAIDOFF', 'PAIDOFF', 'PAIDOFF', 'PAIDOFF', 'PAIDOFF', 'PAIDOFF',\n",
       "       'PAIDOFF', 'PAIDOFF', 'PAIDOFF', 'PAIDOFF', 'PAIDOFF', 'PAIDOFF',\n",
       "       'PAIDOFF', 'PAIDOFF', 'PAIDOFF', 'PAIDOFF', 'PAIDOFF', 'PAIDOFF',\n",
       "       'PAIDOFF', 'PAIDOFF', 'PAIDOFF', 'PAIDOFF', 'PAIDOFF', 'PAIDOFF',\n",
       "       'PAIDOFF', 'PAIDOFF', 'PAIDOFF', 'PAIDOFF', 'PAIDOFF', 'PAIDOFF',\n",
       "       'PAIDOFF', 'PAIDOFF', 'PAIDOFF', 'PAIDOFF', 'PAIDOFF', 'PAIDOFF',\n",
       "       'PAIDOFF', 'PAIDOFF', 'PAIDOFF', 'PAIDOFF', 'PAIDOFF', 'PAIDOFF',\n",
       "       'COLLECTION', 'COLLECTION', 'COLLECTION', 'COLLECTION',\n",
       "       'COLLECTION', 'COLLECTION', 'COLLECTION', 'COLLECTION',\n",
       "       'COLLECTION', 'COLLECTION', 'COLLECTION', 'COLLECTION',\n",
       "       'COLLECTION', 'COLLECTION', 'COLLECTION', 'COLLECTION',\n",
       "       'COLLECTION', 'COLLECTION', 'COLLECTION', 'COLLECTION',\n",
       "       'COLLECTION', 'COLLECTION', 'COLLECTION', 'COLLECTION',\n",
       "       'COLLECTION', 'COLLECTION', 'COLLECTION', 'COLLECTION',\n",
       "       'COLLECTION', 'COLLECTION', 'COLLECTION', 'COLLECTION',\n",
       "       'COLLECTION', 'COLLECTION', 'COLLECTION', 'COLLECTION',\n",
       "       'COLLECTION', 'COLLECTION', 'COLLECTION', 'COLLECTION',\n",
       "       'COLLECTION', 'COLLECTION', 'COLLECTION', 'COLLECTION',\n",
       "       'COLLECTION', 'COLLECTION', 'COLLECTION', 'COLLECTION',\n",
       "       'COLLECTION', 'COLLECTION', 'COLLECTION', 'COLLECTION',\n",
       "       'COLLECTION', 'COLLECTION', 'COLLECTION', 'COLLECTION',\n",
       "       'COLLECTION', 'COLLECTION', 'COLLECTION', 'COLLECTION',\n",
       "       'COLLECTION', 'COLLECTION', 'COLLECTION', 'COLLECTION',\n",
       "       'COLLECTION', 'COLLECTION', 'COLLECTION', 'COLLECTION',\n",
       "       'COLLECTION', 'COLLECTION', 'COLLECTION', 'COLLECTION',\n",
       "       'COLLECTION', 'COLLECTION', 'COLLECTION', 'COLLECTION',\n",
       "       'COLLECTION', 'COLLECTION'], dtype=object)"
      ]
     },
     "execution_count": 735,
     "metadata": {},
     "output_type": "execute_result"
    }
   ],
   "source": [
    "# Saving specific column in a variable\n",
    "y = yourdataframe['loan_status'].values\n",
    "y"
   ]
  },
  {
   "cell_type": "markdown",
   "id": "eee12539",
   "metadata": {},
   "source": [
    "- The main purpose of standardizing a dataset is to ensure that all features are on the same scale. Subtracting the mean from each feature and dividing by the standard deviation. It is often used to scale the features of a dataset so that they have a mean of 0 and a standard deviation of 1."
   ]
  },
  {
   "cell_type": "code",
   "execution_count": 736,
   "id": "908a0ab3",
   "metadata": {},
   "outputs": [
    {
     "data": {
      "text/plain": [
       "array([[ 0.53003415,  0.97281823,  2.23550031],\n",
       "       [ 0.53003415,  0.97281823,  0.29443691],\n",
       "       [ 0.53003415, -0.89391909, -0.6760948 ],\n",
       "       [ 0.53003415,  0.97281823, -0.51433951],\n",
       "       [ 0.53003415,  0.97281823, -0.35258423],\n",
       "       [ 0.53003415,  0.97281823,  0.77970276],\n",
       "       [ 0.53003415,  0.97281823, -0.51433951],\n",
       "       [-1.24253908, -0.89391909, -0.83785008],\n",
       "       [-5.67397215, -1.88951233, -0.35258423],\n",
       "       [ 0.53003415, -0.89391909,  1.26496861],\n",
       "       [ 0.53003415,  0.97281823, -0.83785008],\n",
       "       [-0.35625246, -1.88951233, -0.83785008],\n",
       "       [ 0.53003415, -1.88951233, -0.6760948 ],\n",
       "       [ 0.53003415,  0.97281823,  1.42672389],\n",
       "       [ 0.53003415, -0.89391909,  0.13268162],\n",
       "       [ 0.53003415,  0.97281823,  0.13268162],\n",
       "       [-1.24253908,  0.97281823, -0.83785008],\n",
       "       [ 0.53003415,  0.97281823, -0.99960537],\n",
       "       [ 0.53003415, -0.89391909, -0.83785008],\n",
       "       [ 0.53003415,  0.97281823, -0.35258423],\n",
       "       [-1.24253908, -0.89391909,  1.26496861],\n",
       "       [ 0.53003415, -0.89391909,  0.45619219],\n",
       "       [ 0.53003415,  0.97281823, -0.02907366],\n",
       "       [ 0.53003415,  0.97281823,  0.29443691],\n",
       "       [-1.24253908, -0.89391909,  0.29443691],\n",
       "       [ 0.53003415,  0.97281823,  0.94145804],\n",
       "       [ 0.53003415,  0.97281823, -0.6760948 ],\n",
       "       [-1.24253908, -0.89391909,  0.29443691],\n",
       "       [ 0.53003415,  0.97281823, -0.6760948 ],\n",
       "       [ 0.53003415,  0.97281823, -1.6466265 ],\n",
       "       [ 0.53003415, -0.89391909,  0.13268162],\n",
       "       [-1.24253908, -0.89391909, -0.19082895],\n",
       "       [ 0.53003415, -1.88951233, -0.02907366],\n",
       "       [ 0.53003415, -0.89391909, -0.19082895],\n",
       "       [ 0.53003415, -0.89391909, -1.16136065],\n",
       "       [-1.24253908, -1.88951233,  0.61794747],\n",
       "       [ 0.53003415,  0.97281823, -1.48487122],\n",
       "       [ 0.53003415,  0.97281823,  0.13268162],\n",
       "       [-1.24253908, -0.89391909,  3.04427673],\n",
       "       [ 0.53003415,  0.97281823,  0.61794747],\n",
       "       [-1.24253908, -0.89391909,  0.61794747],\n",
       "       [ 0.53003415,  0.97281823,  0.45619219],\n",
       "       [ 0.53003415,  0.97281823, -1.6466265 ],\n",
       "       [ 0.53003415, -0.89391909, -0.99960537],\n",
       "       [ 0.53003415,  0.97281823, -0.83785008],\n",
       "       [-1.24253908, -0.89391909,  2.07374503],\n",
       "       [-1.24253908, -0.89391909,  1.26496861],\n",
       "       [ 0.53003415,  0.97281823,  0.45619219],\n",
       "       [ 0.53003415,  0.97281823,  2.23550031],\n",
       "       [-0.35625246, -0.89391909, -0.51433951],\n",
       "       [ 0.53003415,  0.97281823, -0.51433951],\n",
       "       [ 0.53003415,  0.97281823,  0.94145804],\n",
       "       [ 0.53003415,  0.97281823,  1.91198975],\n",
       "       [-1.24253908, -0.89391909, -0.35258423],\n",
       "       [-1.24253908, -0.89391909, -0.35258423],\n",
       "       [ 0.53003415,  0.97281823,  0.29443691],\n",
       "       [ 0.53003415, -0.89391909,  0.45619219],\n",
       "       [ 0.53003415,  0.97281823, -0.19082895],\n",
       "       [ 0.53003415,  0.97281823,  0.61794747],\n",
       "       [ 0.53003415,  0.97281823,  2.07374503],\n",
       "       [ 0.53003415,  0.97281823, -0.51433951],\n",
       "       [ 0.53003415, -1.88951233, -0.99960537],\n",
       "       [ 0.53003415, -0.89391909, -0.35258423],\n",
       "       [ 0.53003415,  0.97281823, -1.16136065],\n",
       "       [ 0.53003415,  0.97281823, -0.6760948 ],\n",
       "       [-1.24253908, -0.89391909,  2.3972556 ],\n",
       "       [-1.24253908, -0.89391909,  0.45619219],\n",
       "       [-1.24253908, -0.89391909,  1.10321333],\n",
       "       [-1.24253908, -0.89391909, -0.6760948 ],\n",
       "       [ 0.53003415,  0.97281823,  0.29443691],\n",
       "       [ 0.53003415,  0.97281823,  0.77970276],\n",
       "       [ 0.53003415,  0.97281823,  0.45619219],\n",
       "       [ 0.53003415,  0.97281823, -0.02907366],\n",
       "       [-1.24253908, -0.89391909,  1.10321333],\n",
       "       [ 0.53003415,  0.97281823, -0.19082895],\n",
       "       [ 0.53003415, -0.89391909,  2.23550031],\n",
       "       [ 0.53003415, -0.89391909,  0.61794747],\n",
       "       [ 0.53003415,  0.97281823, -0.02907366],\n",
       "       [ 0.53003415,  0.97281823, -0.51433951],\n",
       "       [ 0.53003415, -1.88951233, -0.35258423],\n",
       "       [ 0.53003415,  0.97281823, -0.6760948 ],\n",
       "       [ 0.53003415, -0.89391909, -0.99960537],\n",
       "       [ 0.53003415,  0.97281823,  1.42672389],\n",
       "       [ 0.53003415,  0.97281823, -1.32311593],\n",
       "       [ 0.53003415,  0.97281823,  0.61794747],\n",
       "       [-1.24253908, -0.89391909, -1.16136065],\n",
       "       [ 0.53003415, -0.89391909, -1.80838179],\n",
       "       [ 0.53003415, -0.89391909, -1.32311593],\n",
       "       [ 0.53003415,  0.97281823, -0.83785008],\n",
       "       [ 0.53003415, -0.89391909, -0.51433951],\n",
       "       [-1.24253908, -0.89391909,  1.91198975],\n",
       "       [ 0.53003415, -0.89391909,  0.45619219],\n",
       "       [ 0.53003415,  0.97281823,  1.10321333],\n",
       "       [ 0.53003415, -0.89391909, -0.83785008],\n",
       "       [ 0.53003415,  0.97281823, -0.83785008],\n",
       "       [ 0.53003415,  0.97281823,  0.29443691],\n",
       "       [-1.24253908, -0.89391909,  0.13268162],\n",
       "       [ 0.53003415, -0.89391909, -1.48487122],\n",
       "       [ 0.53003415, -0.89391909,  2.55901088],\n",
       "       [ 0.53003415,  0.97281823, -1.80838179],\n",
       "       [-1.24253908, -0.89391909,  0.61794747],\n",
       "       [-1.24253908, -0.89391909,  0.29443691],\n",
       "       [ 0.53003415, -0.89391909, -0.02907366],\n",
       "       [ 0.53003415,  0.97281823, -0.83785008],\n",
       "       [ 0.53003415, -0.89391909, -0.83785008],\n",
       "       [-1.24253908, -0.89391909,  0.61794747],\n",
       "       [-1.24253908, -0.89391909, -1.32311593],\n",
       "       [-3.90139892, -0.89391909, -1.32311593],\n",
       "       [ 0.53003415, -0.89391909, -0.19082895],\n",
       "       [ 0.53003415,  0.97281823,  0.45619219],\n",
       "       [ 0.53003415,  0.97281823,  0.77970276],\n",
       "       [-1.24253908, -0.89391909, -0.35258423],\n",
       "       [ 0.53003415, -0.89391909, -0.51433951],\n",
       "       [ 0.53003415,  0.97281823, -0.6760948 ],\n",
       "       [ 0.53003415, -0.89391909, -1.16136065],\n",
       "       [-1.24253908, -0.89391909, -0.02907366],\n",
       "       [ 0.53003415,  0.97281823, -0.51433951],\n",
       "       [ 0.53003415, -0.89391909, -0.6760948 ],\n",
       "       [ 0.53003415, -0.89391909, -0.99960537],\n",
       "       [ 0.53003415,  0.97281823, -1.16136065],\n",
       "       [ 0.53003415,  0.97281823, -0.51433951],\n",
       "       [ 0.53003415, -0.89391909,  0.61794747],\n",
       "       [ 0.53003415, -0.89391909,  1.10321333],\n",
       "       [ 0.53003415,  0.97281823, -0.35258423],\n",
       "       [-1.24253908, -0.89391909,  0.61794747],\n",
       "       [ 0.53003415,  0.97281823, -1.16136065],\n",
       "       [-1.24253908, -0.89391909,  1.26496861],\n",
       "       [-1.24253908, -0.89391909, -0.99960537],\n",
       "       [ 0.53003415,  0.97281823,  1.10321333],\n",
       "       [ 0.53003415,  0.97281823, -0.19082895],\n",
       "       [ 0.53003415,  0.97281823, -1.6466265 ],\n",
       "       [ 0.53003415, -0.89391909, -0.02907366],\n",
       "       [-5.67397215, -1.88951233, -0.35258423],\n",
       "       [ 0.53003415,  0.97281823,  0.61794747],\n",
       "       [-1.24253908, -0.89391909, -0.19082895],\n",
       "       [ 0.53003415,  0.97281823, -0.02907366],\n",
       "       [ 0.53003415, -0.89391909,  0.45619219],\n",
       "       [-1.24253908, -0.89391909, -0.51433951],\n",
       "       [-1.24253908, -0.89391909,  1.75023446],\n",
       "       [ 0.53003415,  0.97281823,  0.13268162],\n",
       "       [ 0.53003415,  0.97281823, -0.19082895],\n",
       "       [ 0.53003415, -0.89391909, -0.99960537],\n",
       "       [ 0.53003415,  0.97281823, -0.6760948 ],\n",
       "       [-1.24253908, -0.89391909, -1.6466265 ],\n",
       "       [ 0.53003415, -0.89391909,  1.42672389],\n",
       "       [ 0.53003415,  0.97281823, -0.35258423],\n",
       "       [ 0.53003415,  0.97281823, -0.83785008],\n",
       "       [-1.24253908, -0.89391909, -0.6760948 ],\n",
       "       [ 0.53003415,  0.97281823, -1.80838179],\n",
       "       [ 0.53003415, -1.88951233, -0.83785008],\n",
       "       [ 0.53003415,  0.97281823, -0.83785008],\n",
       "       [ 0.53003415,  0.97281823, -0.6760948 ],\n",
       "       [-5.67397215, -1.88951233, -1.32311593],\n",
       "       [ 0.53003415,  0.97281823,  1.26496861],\n",
       "       [ 0.53003415, -0.89391909, -0.6760948 ],\n",
       "       [ 0.53003415,  0.97281823,  0.29443691],\n",
       "       [ 0.53003415,  0.97281823, -0.35258423],\n",
       "       [ 0.53003415, -0.89391909,  3.04427673],\n",
       "       [-1.24253908, -0.89391909, -0.02907366],\n",
       "       [ 0.53003415, -0.89391909, -0.02907366],\n",
       "       [ 0.53003415, -0.89391909,  0.61794747],\n",
       "       [ 0.53003415,  0.97281823,  1.26496861],\n",
       "       [ 0.53003415, -0.89391909, -0.19082895],\n",
       "       [ 0.53003415,  0.97281823,  0.29443691],\n",
       "       [ 0.53003415,  0.97281823, -0.83785008],\n",
       "       [-1.24253908, -0.89391909,  0.94145804],\n",
       "       [-1.24253908, -0.89391909, -0.83785008],\n",
       "       [-1.24253908, -0.89391909, -0.83785008],\n",
       "       [ 0.53003415, -0.89391909, -0.6760948 ],\n",
       "       [ 0.53003415, -1.88951233,  0.45619219],\n",
       "       [ 0.53003415,  0.97281823,  0.94145804],\n",
       "       [ 0.53003415,  0.97281823,  0.77970276],\n",
       "       [-1.24253908, -0.89391909,  0.29443691],\n",
       "       [-1.24253908, -0.89391909,  0.77970276],\n",
       "       [ 0.53003415, -0.89391909, -0.35258423],\n",
       "       [ 0.53003415,  0.97281823,  0.13268162],\n",
       "       [ 0.53003415, -0.89391909, -0.35258423],\n",
       "       [-1.24253908, -0.89391909,  0.77970276],\n",
       "       [-1.24253908, -0.89391909, -0.19082895],\n",
       "       [ 0.53003415, -1.88951233, -0.02907366],\n",
       "       [ 0.53003415,  0.97281823, -1.97013707],\n",
       "       [-1.24253908, -0.89391909, -0.83785008],\n",
       "       [-1.24253908, -0.89391909,  0.45619219],\n",
       "       [ 0.53003415,  0.97281823,  0.61794747],\n",
       "       [ 0.53003415, -0.89391909,  0.61794747],\n",
       "       [-1.24253908, -0.89391909,  1.10321333],\n",
       "       [-3.90139892, -1.88951233, -1.48487122],\n",
       "       [ 0.53003415,  0.97281823,  0.13268162],\n",
       "       [ 0.53003415,  0.97281823, -0.02907366],\n",
       "       [-1.24253908, -0.89391909, -0.51433951],\n",
       "       [ 0.53003415, -0.89391909,  0.94145804],\n",
       "       [ 0.53003415, -1.88951233, -0.99960537],\n",
       "       [ 0.53003415,  0.97281823, -1.97013707],\n",
       "       [-1.24253908, -0.89391909,  3.20603202],\n",
       "       [ 0.53003415, -0.89391909, -0.35258423],\n",
       "       [-1.24253908,  0.97281823, -1.32311593],\n",
       "       [ 0.53003415, -0.89391909, -0.19082895],\n",
       "       [ 0.53003415, -0.89391909,  0.45619219],\n",
       "       [-1.24253908, -0.89391909, -0.02907366],\n",
       "       [ 0.53003415, -0.89391909, -1.16136065],\n",
       "       [ 0.53003415,  0.97281823,  1.75023446],\n",
       "       [-1.24253908,  0.97281823,  1.42672389],\n",
       "       [ 0.53003415,  0.97281823, -0.35258423],\n",
       "       [ 0.53003415,  0.97281823,  0.13268162],\n",
       "       [ 0.53003415,  0.97281823, -0.51433951],\n",
       "       [ 0.53003415,  0.97281823,  0.61794747],\n",
       "       [ 0.53003415,  0.97281823, -0.19082895],\n",
       "       [-1.24253908, -0.89391909,  2.07374503],\n",
       "       [-1.24253908, -0.89391909,  0.94145804],\n",
       "       [ 0.53003415,  0.97281823, -0.02907366],\n",
       "       [-1.24253908, -0.89391909,  0.77970276],\n",
       "       [-1.24253908,  0.97281823, -0.02907366],\n",
       "       [-1.24253908, -0.89391909,  1.75023446],\n",
       "       [ 0.53003415, -0.89391909, -0.51433951],\n",
       "       [ 0.53003415,  0.97281823, -0.19082895],\n",
       "       [ 0.53003415,  0.97281823, -0.19082895],\n",
       "       [ 0.53003415, -0.89391909, -1.16136065],\n",
       "       [ 0.53003415,  0.97281823,  0.45619219],\n",
       "       [ 0.53003415,  0.97281823, -0.35258423],\n",
       "       [ 0.53003415,  0.97281823,  0.45619219],\n",
       "       [-1.24253908, -0.89391909, -0.51433951],\n",
       "       [ 0.53003415, -0.89391909, -0.19082895],\n",
       "       [ 0.53003415,  0.97281823,  1.58847918],\n",
       "       [ 0.53003415,  0.97281823,  0.94145804],\n",
       "       [ 0.53003415,  0.97281823,  0.77970276],\n",
       "       [-1.24253908, -0.89391909, -0.6760948 ],\n",
       "       [ 0.53003415,  0.97281823,  1.42672389],\n",
       "       [ 0.53003415,  0.97281823, -0.51433951],\n",
       "       [ 0.53003415, -0.89391909, -0.35258423],\n",
       "       [ 0.53003415,  0.97281823,  0.94145804],\n",
       "       [-1.24253908, -0.89391909, -0.6760948 ],\n",
       "       [-1.24253908, -0.89391909, -1.16136065],\n",
       "       [-1.24253908, -0.89391909, -0.51433951],\n",
       "       [ 0.53003415,  0.97281823,  1.42672389],\n",
       "       [ 0.53003415,  0.97281823,  0.29443691],\n",
       "       [ 0.53003415,  0.97281823, -0.6760948 ],\n",
       "       [ 0.53003415,  0.97281823, -1.16136065],\n",
       "       [ 0.53003415,  0.97281823, -0.19082895],\n",
       "       [ 0.53003415, -0.89391909, -0.35258423],\n",
       "       [ 0.53003415,  0.97281823, -1.48487122],\n",
       "       [ 0.53003415, -0.89391909, -1.16136065],\n",
       "       [ 0.53003415,  0.97281823, -0.99960537],\n",
       "       [ 0.53003415,  0.97281823, -0.51433951],\n",
       "       [ 0.53003415,  0.97281823,  0.94145804],\n",
       "       [-1.24253908, -0.89391909,  0.13268162],\n",
       "       [ 0.53003415, -0.89391909,  0.45619219],\n",
       "       [ 0.53003415,  0.97281823, -0.51433951],\n",
       "       [-1.24253908, -0.89391909,  0.61794747],\n",
       "       [ 0.53003415,  0.97281823, -0.6760948 ],\n",
       "       [ 0.53003415,  0.97281823,  2.07374503],\n",
       "       [ 0.53003415, -0.89391909, -0.02907366],\n",
       "       [ 0.53003415,  0.97281823, -1.6466265 ],\n",
       "       [ 0.53003415,  0.97281823, -0.19082895],\n",
       "       [ 0.53003415,  0.97281823,  1.10321333],\n",
       "       [ 0.53003415,  0.97281823,  0.45619219],\n",
       "       [ 0.53003415,  0.97281823, -0.02907366],\n",
       "       [ 0.53003415,  0.97281823, -1.32311593],\n",
       "       [ 0.53003415, -0.89391909, -0.6760948 ],\n",
       "       [ 0.53003415, -0.89391909,  1.26496861],\n",
       "       [ 0.53003415,  0.97281823, -0.99960537],\n",
       "       [ 0.53003415, -0.89391909,  3.04427673],\n",
       "       [-1.24253908, -0.89391909,  1.10321333],\n",
       "       [ 0.53003415,  0.97281823, -0.6760948 ],\n",
       "       [ 0.53003415,  0.97281823, -0.02907366],\n",
       "       [-1.24253908, -0.89391909,  1.42672389],\n",
       "       [ 0.53003415,  0.97281823, -0.83785008],\n",
       "       [ 0.53003415, -0.89391909, -0.99960537],\n",
       "       [ 0.53003415,  0.97281823,  0.61794747],\n",
       "       [ 0.53003415,  0.97281823,  1.58847918],\n",
       "       [ 0.53003415,  0.97281823,  0.94145804],\n",
       "       [ 0.53003415, -0.89391909,  0.45619219],\n",
       "       [ 0.53003415,  0.97281823,  2.23550031],\n",
       "       [ 0.53003415,  0.97281823, -0.83785008],\n",
       "       [ 0.53003415,  0.97281823,  0.13268162],\n",
       "       [ 0.53003415,  0.97281823, -0.51433951],\n",
       "       [ 0.53003415,  0.97281823,  0.45619219],\n",
       "       [-1.24253908, -0.89391909, -0.35258423],\n",
       "       [ 0.53003415, -0.89391909, -0.83785008],\n",
       "       [-1.24253908, -0.89391909, -1.48487122],\n",
       "       [ 0.53003415,  0.97281823, -0.6760948 ],\n",
       "       [-1.24253908,  0.97281823,  0.29443691],\n",
       "       [-1.24253908, -0.89391909, -0.51433951],\n",
       "       [ 0.53003415,  0.97281823, -1.16136065],\n",
       "       [ 0.53003415,  0.97281823, -2.13189235],\n",
       "       [-1.24253908, -0.89391909, -0.99960537],\n",
       "       [ 0.53003415, -0.89391909,  1.42672389],\n",
       "       [ 0.53003415,  0.97281823, -0.35258423],\n",
       "       [-1.24253908, -0.89391909, -0.83785008],\n",
       "       [ 0.53003415, -0.89391909, -0.19082895],\n",
       "       [ 0.53003415,  0.97281823,  0.29443691],\n",
       "       [ 0.53003415,  0.97281823, -0.19082895],\n",
       "       [ 0.53003415,  0.97281823, -0.99960537],\n",
       "       [-1.24253908, -0.89391909,  0.61794747],\n",
       "       [ 0.53003415, -0.89391909, -0.19082895],\n",
       "       [ 0.53003415,  0.97281823, -0.35258423],\n",
       "       [ 0.53003415,  0.97281823, -0.83785008],\n",
       "       [-1.24253908, -0.89391909,  2.3972556 ],\n",
       "       [ 0.53003415,  0.97281823,  0.77970276],\n",
       "       [ 0.53003415, -0.89391909,  1.10321333],\n",
       "       [ 0.53003415, -0.89391909,  0.13268162],\n",
       "       [ 0.53003415,  0.97281823, -0.35258423],\n",
       "       [ 0.53003415,  0.97281823, -0.83785008],\n",
       "       [-1.24253908, -0.89391909,  0.13268162],\n",
       "       [-1.24253908, -0.89391909,  1.26496861],\n",
       "       [ 0.53003415,  0.97281823, -0.51433951],\n",
       "       [ 0.53003415,  0.97281823, -0.83785008]])"
      ]
     },
     "execution_count": 736,
     "metadata": {},
     "output_type": "execute_result"
    }
   ],
   "source": [
    "# dropping unnecessary columns and saving in a variable\n",
    "X = yourdataframe.drop(['loan_status','education','Gender','effective_date','due_date'],axis=1)\n",
    "# Normalization Standard Scaler\n",
    "X = preprocessing.StandardScaler().fit(X).transform(X)\n",
    "X \n"
   ]
  },
  {
   "cell_type": "markdown",
   "id": "f8e47667",
   "metadata": {},
   "source": [
    "# Data Modelling"
   ]
  },
  {
   "cell_type": "code",
   "execution_count": 737,
   "id": "b22bcb77",
   "metadata": {},
   "outputs": [
    {
     "name": "stdout",
     "output_type": "stream",
     "text": [
      "X train size (214, 3)\n",
      "y train size (214,)\n",
      "X test size (92, 3)\n",
      "y test size (92,)\n"
     ]
    }
   ],
   "source": [
    "X_train, X_test,y_train,y_test = train_test_split(\n",
    "    X, y, test_size=0.3, random_state=15)\n",
    "print('X train size', X_train.shape)\n",
    "print('y train size', y_train.shape)\n",
    "print('X test size', X_test.shape)\n",
    "print('y test size', y_test.shape)"
   ]
  },
  {
   "cell_type": "markdown",
   "id": "1cf7efb4",
   "metadata": {},
   "source": [
    "# 1) Logistic Regression"
   ]
  },
  {
   "cell_type": "code",
   "execution_count": 738,
   "id": "2caa1511",
   "metadata": {},
   "outputs": [
    {
     "name": "stdout",
     "output_type": "stream",
     "text": [
      "LogisticRegression(C=0.01, solver='liblinear')\n"
     ]
    }
   ],
   "source": [
    "# Build the model\n",
    "Logisticmodel = LogisticRegression(\n",
    "    C=0.01, solver='liblinear').fit(X_train, y_train)\n",
    "print (Logisticmodel)"
   ]
  },
  {
   "cell_type": "code",
   "execution_count": 739,
   "id": "5a7ac820",
   "metadata": {},
   "outputs": [],
   "source": [
    "logistic_predictions = Logisticmodel.predict(X_test)"
   ]
  },
  {
   "cell_type": "markdown",
   "id": "d84c434c",
   "metadata": {},
   "source": [
    "### Accuracy  "
   ]
  },
  {
   "cell_type": "code",
   "execution_count": 740,
   "id": "034ad158",
   "metadata": {},
   "outputs": [
    {
     "data": {
      "text/plain": [
       "0.75"
      ]
     },
     "execution_count": 740,
     "metadata": {},
     "output_type": "execute_result"
    }
   ],
   "source": [
    "Logisticmodel.score(X_test,y_test)"
   ]
  },
  {
   "cell_type": "markdown",
   "id": "45f73fc1",
   "metadata": {},
   "source": [
    "- The accuracy of my logistic regression if 75%. To evaluate the accuracy of a logistic regression model, I will use common classification metrics such as precision, recall, and the F1 score later"
   ]
  },
  {
   "cell_type": "markdown",
   "id": "89a33b6a",
   "metadata": {},
   "source": [
    "### Classification Report "
   ]
  },
  {
   "cell_type": "code",
   "execution_count": 741,
   "id": "2f0a43ac",
   "metadata": {},
   "outputs": [
    {
     "name": "stdout",
     "output_type": "stream",
     "text": [
      "              precision    recall  f1-score   support\n",
      "\n",
      "  COLLECTION       0.00      0.00      0.00        23\n",
      "     PAIDOFF       0.75      1.00      0.86        69\n",
      "\n",
      "    accuracy                           0.75        92\n",
      "   macro avg       0.38      0.50      0.43        92\n",
      "weighted avg       0.56      0.75      0.64        92\n",
      "\n"
     ]
    }
   ],
   "source": [
    "print(classification_report(y_test,logistic_predictions))"
   ]
  },
  {
   "cell_type": "markdown",
   "id": "7bca3e6c",
   "metadata": {},
   "source": [
    "### Confusion Matrix LR"
   ]
  },
  {
   "cell_type": "markdown",
   "id": "728f0bbc",
   "metadata": {},
   "source": [
    "- I will use the confusion matrix to visualize the model's performance, which allows me to see the number of true positive, true negative, false positive, and false negative predictions made by the model. 75 percent of the PAIDOFF is correct and the minor wrong prediction of 25 came which is shown below. There is nothing for the Collection shown, it can be becuase when we randomize our data above for modelling, it didn't get this."
   ]
  },
  {
   "cell_type": "code",
   "execution_count": 742,
   "id": "6e110f89",
   "metadata": {},
   "outputs": [
    {
     "data": {
      "image/png": "[encoded data removed]",
      "text/plain": [
       "<Figure size 864x504 with 2 Axes>"
      ]
     },
     "metadata": {
      "needs_background": "light"
     },
     "output_type": "display_data"
    }
   ],
   "source": [
    "# Confusion Matrix\n",
    "cm_Logisticmodel = confusion_matrix(y_test,logistic_predictions)\n",
    "\n",
    "# plot confusion matrix \n",
    "plt.figure(figsize=(12,7))\n",
    "sentiment_classes = ['COLLECTION', 'PAIDOFF']\n",
    "sb.heatmap(cm_Logisticmodel, cmap=plt.cm.Greens, annot=True,cbar_kws={'label': 'Loan Status'},  fmt='d',  \n",
    "            xticklabels=sentiment_classes,\n",
    "            yticklabels=sentiment_classes)\n",
    "plt.xlabel('Predicted', fontsize=15)\n",
    "plt.ylabel('Truth', fontsize=15)\n",
    "plt.title('Confusion matrix', fontsize=20)\n",
    "plt.show()"
   ]
  },
  {
   "cell_type": "markdown",
   "id": "38af1d7b",
   "metadata": {},
   "source": [
    "#  2) KNN"
   ]
  },
  {
   "cell_type": "code",
   "execution_count": 743,
   "id": "d7b8e31b",
   "metadata": {},
   "outputs": [
    {
     "name": "stdout",
     "output_type": "stream",
     "text": [
      "KNeighborsClassifier(n_neighbors=16)\n"
     ]
    }
   ],
   "source": [
    "# Making KNN Model\n",
    "KNN = KNeighborsClassifier(n_neighbors=16).fit(X_train, y_train)\n",
    "print (KNN)"
   ]
  },
  {
   "cell_type": "code",
   "execution_count": 744,
   "id": "2aa37fa7",
   "metadata": {},
   "outputs": [],
   "source": [
    "KNN_predictions = KNN.predict(X_test)"
   ]
  },
  {
   "cell_type": "markdown",
   "id": "d009b3ec",
   "metadata": {},
   "source": [
    "### Accuracy "
   ]
  },
  {
   "cell_type": "markdown",
   "id": "04b5ef68",
   "metadata": {},
   "source": [
    "- The accuracy of my KNN is 73%. To evaluate the accuracy of a logistic regression model, I will use common classification metrics such as precision, recall, and the F1 score later"
   ]
  },
  {
   "cell_type": "code",
   "execution_count": 745,
   "id": "2928a48b",
   "metadata": {},
   "outputs": [
    {
     "data": {
      "text/plain": [
       "0.7391304347826086"
      ]
     },
     "execution_count": 745,
     "metadata": {},
     "output_type": "execute_result"
    }
   ],
   "source": [
    "# Checking the accuracy\n",
    "KNN.score(X_test,y_test)"
   ]
  },
  {
   "cell_type": "markdown",
   "id": "bb28e0dc",
   "metadata": {},
   "source": [
    "### Classification Report"
   ]
  },
  {
   "cell_type": "code",
   "execution_count": 746,
   "id": "0d95c235",
   "metadata": {},
   "outputs": [
    {
     "name": "stdout",
     "output_type": "stream",
     "text": [
      "              precision    recall  f1-score   support\n",
      "\n",
      "  COLLECTION       0.00      0.00      0.00        23\n",
      "     PAIDOFF       0.75      0.99      0.85        69\n",
      "\n",
      "    accuracy                           0.74        92\n",
      "   macro avg       0.37      0.49      0.43        92\n",
      "weighted avg       0.56      0.74      0.64        92\n",
      "\n"
     ]
    }
   ],
   "source": [
    "print(classification_report(y_test,KNN_predictions))"
   ]
  },
  {
   "cell_type": "markdown",
   "id": "6797489e",
   "metadata": {},
   "source": [
    "### Confusion Matrix KNN"
   ]
  },
  {
   "cell_type": "code",
   "execution_count": 747,
   "id": "e1d31fd4",
   "metadata": {
    "scrolled": true
   },
   "outputs": [
    {
     "data": {
      "image/png": "[encoded data removed]",
      "text/plain": [
       "<Figure size 864x504 with 2 Axes>"
      ]
     },
     "metadata": {
      "needs_background": "light"
     },
     "output_type": "display_data"
    }
   ],
   "source": [
    "# Confusion Matrix\n",
    "cm_KNN = confusion_matrix(y_test,KNN_predictions)\n",
    "\n",
    "# plot confusion matrix \n",
    "plt.figure(figsize=(12,7))\n",
    "sentiment_classes = ['COLLECTION', 'PAIDOFF']\n",
    "sb.heatmap(cm_KNN, cmap=plt.cm.Greens, annot=True,cbar_kws={'label': 'Loan Status'},  fmt='d',  \n",
    "            xticklabels=sentiment_classes,\n",
    "            yticklabels=sentiment_classes)\n",
    "plt.xlabel('Predicted', fontsize=15)\n",
    "plt.ylabel('Truth', fontsize=15)\n",
    "plt.title('Confusion matrix', fontsize=20)\n",
    "plt.show()"
   ]
  },
  {
   "cell_type": "markdown",
   "id": "721cce34",
   "metadata": {},
   "source": [
    "-  PAIDOFF is 75 percent correct in PAIDOFF while  26 percent wrong."
   ]
  },
  {
   "cell_type": "markdown",
   "id": "2f1169f1",
   "metadata": {},
   "source": [
    "# 3) Decision Tree"
   ]
  },
  {
   "cell_type": "code",
   "execution_count": 748,
   "id": "5be43cd5",
   "metadata": {},
   "outputs": [],
   "source": [
    "# Making Decision Tree Model\n",
    "Dec_Tree = DecisionTreeClassifier(\n",
    "    criterion='entropy', max_depth=4).fit(X_train, y_train)"
   ]
  },
  {
   "cell_type": "code",
   "execution_count": 749,
   "id": "e17ef5c3",
   "metadata": {},
   "outputs": [],
   "source": [
    "Dec_Tree_predictions = Dec_Tree.predict(X_test)"
   ]
  },
  {
   "cell_type": "markdown",
   "id": "4cb0cf5c",
   "metadata": {},
   "source": [
    "### Accuracy "
   ]
  },
  {
   "cell_type": "code",
   "execution_count": 750,
   "id": "a72420d6",
   "metadata": {},
   "outputs": [
    {
     "data": {
      "text/plain": [
       "0.75"
      ]
     },
     "execution_count": 750,
     "metadata": {},
     "output_type": "execute_result"
    }
   ],
   "source": [
    "# Checking the accuracy\n",
    "Dec_Tree.score(X_test,y_test)"
   ]
  },
  {
   "cell_type": "markdown",
   "id": "52e87f0f",
   "metadata": {},
   "source": [
    "- Decision tree is giving the accuracy of 75 percent which we will check through confusion matric and classification report as well."
   ]
  },
  {
   "cell_type": "markdown",
   "id": "c812adba",
   "metadata": {},
   "source": [
    "### Classification Report"
   ]
  },
  {
   "cell_type": "code",
   "execution_count": 751,
   "id": "c7597f5b",
   "metadata": {},
   "outputs": [
    {
     "name": "stdout",
     "output_type": "stream",
     "text": [
      "              precision    recall  f1-score   support\n",
      "\n",
      "  COLLECTION       0.00      0.00      0.00        23\n",
      "     PAIDOFF       0.75      1.00      0.86        69\n",
      "\n",
      "    accuracy                           0.75        92\n",
      "   macro avg       0.38      0.50      0.43        92\n",
      "weighted avg       0.56      0.75      0.64        92\n",
      "\n"
     ]
    }
   ],
   "source": [
    "print(classification_report(y_test,Dec_Tree_predictions))"
   ]
  },
  {
   "cell_type": "markdown",
   "id": "98a5020b",
   "metadata": {},
   "source": [
    "### Confusion Matrix DT"
   ]
  },
  {
   "cell_type": "code",
   "execution_count": 752,
   "id": "8a4babd1",
   "metadata": {},
   "outputs": [
    {
     "data": {
      "image/png": "[encoded data removed]",
      "text/plain": [
       "<Figure size 864x504 with 2 Axes>"
      ]
     },
     "metadata": {
      "needs_background": "light"
     },
     "output_type": "display_data"
    }
   ],
   "source": [
    "\n",
    "# Confusion Matrix\n",
    "cm_Dec_Tree = confusion_matrix(y_test,Dec_Tree_predictions)\n",
    "\n",
    "# plot confusion matrix \n",
    "plt.figure(figsize=(12,7))\n",
    "sentiment_classes = ['COLLECTION', 'PAIDOFF']\n",
    "sb.heatmap(cm_Dec_Tree, cmap=plt.cm.Greens, annot=True,cbar_kws={'label': 'Loan Status'},  fmt='d',  \n",
    "            xticklabels=sentiment_classes,\n",
    "            yticklabels=sentiment_classes)\n",
    "plt.xlabel('Predicted', fontsize=15)\n",
    "plt.ylabel('Truth', fontsize=15)\n",
    "plt.title('Confusion matrix', fontsize=20)\n",
    "plt.show()"
   ]
  },
  {
   "cell_type": "markdown",
   "id": "cf07ffd6",
   "metadata": {},
   "source": [
    "-  75 percent of the PAIDOFF is correct and the minor wrong prediction of 25 came which is shown below"
   ]
  },
  {
   "cell_type": "markdown",
   "id": "35e8f899",
   "metadata": {},
   "source": [
    "# 4) SVM"
   ]
  },
  {
   "cell_type": "code",
   "execution_count": 753,
   "id": "c3f879fa",
   "metadata": {},
   "outputs": [],
   "source": [
    "# Building the SVM Model\n",
    "SVM = svm.SVC(kernel='rbf').fit(X_train, (y_train))"
   ]
  },
  {
   "cell_type": "code",
   "execution_count": 754,
   "id": "099e62df",
   "metadata": {},
   "outputs": [],
   "source": [
    "SVM_predictions = SVM.predict(X_test)"
   ]
  },
  {
   "cell_type": "markdown",
   "id": "c32642a7",
   "metadata": {},
   "source": [
    "### Accuracy "
   ]
  },
  {
   "cell_type": "code",
   "execution_count": 755,
   "id": "519cd988",
   "metadata": {},
   "outputs": [
    {
     "data": {
      "text/plain": [
       "0.75"
      ]
     },
     "execution_count": 755,
     "metadata": {},
     "output_type": "execute_result"
    }
   ],
   "source": [
    "SVM.score(X_test,y_test)"
   ]
  },
  {
   "cell_type": "markdown",
   "id": "dcf44741",
   "metadata": {},
   "source": [
    "- The accuracy of the SVM model is 75 percent as shown"
   ]
  },
  {
   "cell_type": "markdown",
   "id": "42848f47",
   "metadata": {},
   "source": [
    "### Classification Report "
   ]
  },
  {
   "cell_type": "code",
   "execution_count": 756,
   "id": "7b3ef0f4",
   "metadata": {},
   "outputs": [
    {
     "name": "stdout",
     "output_type": "stream",
     "text": [
      "              precision    recall  f1-score   support\n",
      "\n",
      "  COLLECTION       0.00      0.00      0.00        23\n",
      "     PAIDOFF       0.75      1.00      0.86        69\n",
      "\n",
      "    accuracy                           0.75        92\n",
      "   macro avg       0.38      0.50      0.43        92\n",
      "weighted avg       0.56      0.75      0.64        92\n",
      "\n"
     ]
    }
   ],
   "source": [
    "print(classification_report(y_test,SVM_predictions))"
   ]
  },
  {
   "cell_type": "markdown",
   "id": "cc783619",
   "metadata": {},
   "source": [
    "### Confusion Matrix SVM"
   ]
  },
  {
   "cell_type": "code",
   "execution_count": 757,
   "id": "a4697125",
   "metadata": {},
   "outputs": [
    {
     "data": {
      "image/png": "[encoded data removed]",
      "text/plain": [
       "<Figure size 864x504 with 2 Axes>"
      ]
     },
     "metadata": {
      "needs_background": "light"
     },
     "output_type": "display_data"
    }
   ],
   "source": [
    "cm_svm = confusion_matrix(y_test,SVM_predictions)\n",
    "\n",
    "# plot confusion matrix \n",
    "plt.figure(figsize=(12,7))\n",
    "sentiment_classes = ['COLLECTION', 'PAIDOFF']\n",
    "sb.heatmap(cm_svm, cmap=plt.cm.Greens, annot=True,cbar_kws={'label': 'Loan Status'},  fmt='d',  \n",
    "            xticklabels=sentiment_classes,\n",
    "            yticklabels=sentiment_classes)\n",
    "plt.xlabel('Predicted', fontsize=15)\n",
    "plt.ylabel('Truth', fontsize=15)\n",
    "plt.title('Confusion matrix', fontsize=20)\n",
    "plt.show()"
   ]
  },
  {
   "cell_type": "markdown",
   "id": "c3911fbc",
   "metadata": {},
   "source": [
    "- PAIDOFF is 75 percent correct in PAIDOFF while  25 percent wrong. Overall among the whole models, All three models are giving the same accuracy which is tehe highest 75% It's important to note that accuracy is not always the best metric to evaluate a model's performance, especially if the class distribution is imbalanced. In these cases, other metrics such as precision, recall, and the F1 score may be more informative."
   ]
  },
  {
   "cell_type": "markdown",
   "id": "264690a2",
   "metadata": {},
   "source": [
    "# Question 3"
   ]
  },
  {
   "cell_type": "markdown",
   "id": "9dc42754",
   "metadata": {},
   "source": [
    "# Linear Regression"
   ]
  },
  {
   "cell_type": "code",
   "execution_count": 758,
   "id": "3622fb21",
   "metadata": {},
   "outputs": [],
   "source": [
    "# Use GridSearchCV for hyperparameter tuning\n",
    "parameters = {\"C\": np.logspace(-3, 3, 7), \"penalty\": [\"l1\", \"l2\"]}\n",
    "LR_new = GridSearchCV(Logisticmodel, parameters)"
   ]
  },
  {
   "cell_type": "code",
   "execution_count": 759,
   "id": "108abfcb",
   "metadata": {},
   "outputs": [
    {
     "data": {
      "text/plain": [
       "GridSearchCV(estimator=LogisticRegression(C=0.01, solver='liblinear'),\n",
       "             param_grid={'C': array([1.e-03, 1.e-02, 1.e-01, 1.e+00, 1.e+01, 1.e+02, 1.e+03]),\n",
       "                         'penalty': ['l1', 'l2']})"
      ]
     },
     "execution_count": 759,
     "metadata": {},
     "output_type": "execute_result"
    }
   ],
   "source": [
    "LR_new.fit(X_train, y_train)"
   ]
  },
  {
   "cell_type": "code",
   "execution_count": 760,
   "id": "b2251251",
   "metadata": {},
   "outputs": [
    {
     "data": {
      "text/plain": [
       "0.75"
      ]
     },
     "execution_count": 760,
     "metadata": {},
     "output_type": "execute_result"
    }
   ],
   "source": [
    "LR_prediction_new = LR_new.predict(X_test)\n",
    "LR_new.score(X_test, y_test)"
   ]
  },
  {
   "cell_type": "markdown",
   "id": "22957120",
   "metadata": {},
   "source": [
    "# KNN"
   ]
  },
  {
   "cell_type": "code",
   "execution_count": 761,
   "id": "970c4cb2",
   "metadata": {},
   "outputs": [],
   "source": [
    "parameters = dict(n_neighbors=list(range(1, 31)))\n",
    "KNN_new = GridSearchCV(KNN, parameters)\n"
   ]
  },
  {
   "cell_type": "code",
   "execution_count": 762,
   "id": "e0055072",
   "metadata": {},
   "outputs": [
    {
     "data": {
      "text/plain": [
       "GridSearchCV(estimator=KNeighborsClassifier(n_neighbors=16),\n",
       "             param_grid={'n_neighbors': [1, 2, 3, 4, 5, 6, 7, 8, 9, 10, 11, 12,\n",
       "                                         13, 14, 15, 16, 17, 18, 19, 20, 21, 22,\n",
       "                                         23, 24, 25, 26, 27, 28, 29, 30]})"
      ]
     },
     "execution_count": 762,
     "metadata": {},
     "output_type": "execute_result"
    }
   ],
   "source": [
    "KNN_new.fit(X_train, (y_train))"
   ]
  },
  {
   "cell_type": "code",
   "execution_count": 763,
   "id": "44d6dbf5",
   "metadata": {},
   "outputs": [
    {
     "data": {
      "text/plain": [
       "0.75"
      ]
     },
     "execution_count": 763,
     "metadata": {},
     "output_type": "execute_result"
    }
   ],
   "source": [
    "KNN_prediction_new = KNN_new.predict(X_test)\n",
    "KNN_new.score(X_test, y_test)"
   ]
  },
  {
   "cell_type": "markdown",
   "id": "e1ef02a0",
   "metadata": {},
   "source": [
    "# Decision Tree"
   ]
  },
  {
   "cell_type": "code",
   "execution_count": 764,
   "id": "feb29221",
   "metadata": {},
   "outputs": [],
   "source": [
    "parameters = {'max_leaf_nodes': list(range(2, 100)), 'min_samples_split': [2, 3, 4]}\n",
    "DT_new = GridSearchCV(Dec_Tree, parameters)\n"
   ]
  },
  {
   "cell_type": "code",
   "execution_count": 765,
   "id": "384b9215",
   "metadata": {},
   "outputs": [
    {
     "data": {
      "text/plain": [
       "GridSearchCV(estimator=DecisionTreeClassifier(criterion='entropy', max_depth=4),\n",
       "             param_grid={'max_leaf_nodes': [2, 3, 4, 5, 6, 7, 8, 9, 10, 11, 12,\n",
       "                                            13, 14, 15, 16, 17, 18, 19, 20, 21,\n",
       "                                            22, 23, 24, 25, 26, 27, 28, 29, 30,\n",
       "                                            31, ...],\n",
       "                         'min_samples_split': [2, 3, 4]})"
      ]
     },
     "execution_count": 765,
     "metadata": {},
     "output_type": "execute_result"
    }
   ],
   "source": [
    "DT_new.fit(X_train, y_train)"
   ]
  },
  {
   "cell_type": "code",
   "execution_count": 766,
   "id": "4180ab4f",
   "metadata": {},
   "outputs": [
    {
     "data": {
      "text/plain": [
       "0.75"
      ]
     },
     "execution_count": 766,
     "metadata": {},
     "output_type": "execute_result"
    }
   ],
   "source": [
    "DT_prediction_new = DT_new.predict(X_test)\n",
    "DT_new.score(X_test, y_test)"
   ]
  },
  {
   "cell_type": "markdown",
   "id": "178a5fac",
   "metadata": {},
   "source": [
    "# SVM"
   ]
  },
  {
   "cell_type": "code",
   "execution_count": 767,
   "id": "1e4b51d5",
   "metadata": {},
   "outputs": [],
   "source": [
    "parameters = {'kernel': ('linear', 'rbf'), 'C': [1, 10]}\n",
    "SVM_new = GridSearchCV(SVM, parameters)"
   ]
  },
  {
   "cell_type": "code",
   "execution_count": 768,
   "id": "3c66ddb1",
   "metadata": {},
   "outputs": [
    {
     "data": {
      "text/plain": [
       "GridSearchCV(estimator=SVC(),\n",
       "             param_grid={'C': [1, 10], 'kernel': ('linear', 'rbf')})"
      ]
     },
     "execution_count": 768,
     "metadata": {},
     "output_type": "execute_result"
    }
   ],
   "source": [
    "SVM_new.fit(X_train, y_train)"
   ]
  },
  {
   "cell_type": "code",
   "execution_count": 769,
   "id": "8a843e23",
   "metadata": {},
   "outputs": [
    {
     "data": {
      "text/plain": [
       "0.75"
      ]
     },
     "execution_count": 769,
     "metadata": {},
     "output_type": "execute_result"
    }
   ],
   "source": [
    "SVM_prediction_new = SVM.predict(X_test)\n",
    "SVM_new.score(X_test, y_test)"
   ]
  },
  {
   "cell_type": "markdown",
   "id": "f2eaceca",
   "metadata": {},
   "source": [
    "- I am using GridSearchCV to optimize the hyperparameters of a classification model, it is possible that the optimized model will produce the same output as the original model, depending on the specific hyperparameters being optimized and the values of those hyperparameters. We can see that we are getting same scores for the original models and after applying GridSearchCV.If the accuracy is different as we can see in some cases then the optimized model would be expected to have better performance than the original model, as long as the scoring metric used to evaluate the model is reliable."
   ]
  },
  {
   "cell_type": "markdown",
   "id": "30a76b2e",
   "metadata": {},
   "source": [
    "# Task 2"
   ]
  },
  {
   "cell_type": "code",
   "execution_count": 770,
   "id": "67baf823",
   "metadata": {},
   "outputs": [],
   "source": [
    "# importing libraries\n",
    "# ! pip install apyori\n",
    "# ! pip install pandas mlxtend\n",
    "from apyori import apriori"
   ]
  },
  {
   "cell_type": "code",
   "execution_count": 771,
   "id": "78929b90",
   "metadata": {},
   "outputs": [
    {
     "data": {
      "text/html": [
       "<div>\n",
       "<style scoped>\n",
       "    .dataframe tbody tr th:only-of-type {\n",
       "        vertical-align: middle;\n",
       "    }\n",
       "\n",
       "    .dataframe tbody tr th {\n",
       "        vertical-align: top;\n",
       "    }\n",
       "\n",
       "    .dataframe thead th {\n",
       "        text-align: right;\n",
       "    }\n",
       "</style>\n",
       "<table border=\"1\" class=\"dataframe\">\n",
       "  <thead>\n",
       "    <tr style=\"text-align: right;\">\n",
       "      <th></th>\n",
       "      <th>IDs</th>\n",
       "      <th>itemlist</th>\n",
       "    </tr>\n",
       "  </thead>\n",
       "  <tbody>\n",
       "    <tr>\n",
       "      <th>1</th>\n",
       "      <td>1</td>\n",
       "      <td>sausage,whole milk,semi-finished bread,yogurt</td>\n",
       "    </tr>\n",
       "    <tr>\n",
       "      <th>2</th>\n",
       "      <td>2</td>\n",
       "      <td>whole milk,pastry,salty snack</td>\n",
       "    </tr>\n",
       "    <tr>\n",
       "      <th>3</th>\n",
       "      <td>3</td>\n",
       "      <td>canned beer,misc. beverages</td>\n",
       "    </tr>\n",
       "    <tr>\n",
       "      <th>4</th>\n",
       "      <td>4</td>\n",
       "      <td>sausage,hygiene articles</td>\n",
       "    </tr>\n",
       "    <tr>\n",
       "      <th>5</th>\n",
       "      <td>5</td>\n",
       "      <td>soda,pickled vegetables</td>\n",
       "    </tr>\n",
       "  </tbody>\n",
       "</table>\n",
       "</div>"
      ],
      "text/plain": [
       "  IDs                                       itemlist\n",
       "1   1  sausage,whole milk,semi-finished bread,yogurt\n",
       "2   2                  whole milk,pastry,salty snack\n",
       "3   3                    canned beer,misc. beverages\n",
       "4   4                       sausage,hygiene articles\n",
       "5   5                        soda,pickled vegetables"
      ]
     },
     "execution_count": 771,
     "metadata": {},
     "output_type": "execute_result"
    }
   ],
   "source": [
    "# Reading the dataset and making dataframe \n",
    "yourdata_frame = pd.read_fwf('item_list.csv', header=None)\n",
    "# Fixing the comma separations in file\n",
    "yourdata_frame = yourdata_frame[0].str.split(',', 1, expand=True)\n",
    "yourdata_frame = yourdata_frame.drop([0, 0])\n",
    "# Titling the columns in a dataframe\n",
    "yourdata_frame.columns = ['IDs','itemlist']\n",
    "yourdata_frame.head()"
   ]
  },
  {
   "cell_type": "code",
   "execution_count": 772,
   "id": "20b015bf",
   "metadata": {},
   "outputs": [],
   "source": [
    "# removing extra which is not required\n",
    "rem = {'/': ','}\n",
    "yourdata_frame['itemlist'].replace(rem, regex=True, inplace=True)"
   ]
  },
  {
   "cell_type": "code",
   "execution_count": 773,
   "id": "62c44fe9",
   "metadata": {},
   "outputs": [
    {
     "data": {
      "text/plain": [
       "1        None\n",
       "2        None\n",
       "3        None\n",
       "4        None\n",
       "5        None\n",
       "         ... \n",
       "14959    None\n",
       "14960    None\n",
       "14961    None\n",
       "14962    None\n",
       "14963    None\n",
       "Name: itemlist, Length: 14963, dtype: object"
      ]
     },
     "execution_count": 773,
     "metadata": {},
     "output_type": "execute_result"
    }
   ],
   "source": [
    "# saving in an array \n",
    "content = []\n",
    "yourdata_frame['itemlist'].apply(lambda x: content.append(x.split(',')))"
   ]
  },
  {
   "cell_type": "markdown",
   "id": "a95d7000",
   "metadata": {},
   "source": [
    "- Now we have separated and then saved all the content in a form of array to process our algorithim."
   ]
  },
  {
   "cell_type": "code",
   "execution_count": 774,
   "id": "163573a4",
   "metadata": {},
   "outputs": [
    {
     "data": {
      "text/plain": [
       "<generator object apriori at 0x00000253E7573040>"
      ]
     },
     "execution_count": 774,
     "metadata": {},
     "output_type": "execute_result"
    }
   ],
   "source": [
    "# Creating the model\n",
    "\n",
    "aprio = apriori(transactions=content, min_support=0.001, min_confidence=0.05, min_lift=3, min_length=2, max_length=2)\n",
    "aprio\n"
   ]
  },
  {
   "cell_type": "code",
   "execution_count": 775,
   "id": "16cbfabc",
   "metadata": {},
   "outputs": [
    {
     "name": "stdout",
     "output_type": "stream",
     "text": [
      "Rule: bags -> cling film\n",
      "Support value: 0.004945532313038829\n",
      "Confidence Value: 0.9487179487179487\n",
      "Lift: 191.83333333333331\n",
      "*************************************\n",
      "Rule: red -> blush wine\n",
      "Support value: 0.010425716768027803\n",
      "Confidence Value: 1.0\n",
      "Lift: 95.30573248407643\n",
      "*************************************\n",
      "Rule: buns -> rolls\n",
      "Support value: 0.10940319454654815\n",
      "Confidence Value: 1.0\n",
      "Lift: 9.134920634920634\n",
      "*************************************\n",
      "Rule: fertilizer -> flower soil\n",
      "Support value: 0.0010693042839002875\n",
      "Confidence Value: 1.0\n",
      "Lift: 935.1874999999999\n",
      "*************************************\n",
      "Rule: film -> photo\n",
      "Support value: 0.005212858384013901\n",
      "Confidence Value: 1.0\n",
      "Lift: 191.83333333333331\n",
      "*************************************\n",
      "Rule: vegetable juice -> fruit\n",
      "Support value: 0.03328209583639644\n",
      "Confidence Value: 0.9803149606299213\n",
      "Lift: 29.454724409448822\n",
      "*************************************\n",
      "Rule: nuts -> prunes\n",
      "Support value: 0.002205440085544343\n",
      "Confidence Value: 1.0\n",
      "Lift: 453.4242424242424\n",
      "*************************************\n",
      "Rule: packaged fruit -> vegetables\n",
      "Support value: 0.008220276682483459\n",
      "Confidence Value: 0.9761904761904763\n",
      "Lift: 118.75396825396827\n",
      "*************************************\n",
      "Rule: whipped -> sour cream\n",
      "Support value: 0.0429726659092428\n",
      "Confidence Value: 1.0\n",
      "Lift: 23.12673879443586\n",
      "*************************************\n"
     ]
    }
   ],
   "source": [
    "sav = list(aprio)\n",
    "for item in sav:\n",
    "\n",
    "    # Saving the indexes of the the list we created for the content\n",
    "    pair = item[0] \n",
    "    items = [x for x in pair]\n",
    "    print(\"Rule: \" + items[0] + \" -> \" + items[1])\n",
    "    print(\"Support value: \" + str(item[1]))\n",
    "    \n",
    "    print(\"Confidence Value: \" + str(item[2][0][2]))\n",
    "    print(\"Lift: \" + str(item[2][0][3]))\n",
    "    print (\"*************************************\")"
   ]
  },
  {
   "cell_type": "markdown",
   "id": "b0365205",
   "metadata": {},
   "source": [
    "- Now making separate models by changing the values of support and confidence to see how they varies."
   ]
  },
  {
   "cell_type": "code",
   "execution_count": 776,
   "id": "08a1fadb",
   "metadata": {},
   "outputs": [
    {
     "data": {
      "text/plain": [
       "<generator object apriori at 0x00000253E72432E0>"
      ]
     },
     "execution_count": 776,
     "metadata": {},
     "output_type": "execute_result"
    }
   ],
   "source": [
    "# Creating the model\n",
    "\n",
    "aprio = apriori(transactions=content, min_support=0.03, min_confidence=0.2, min_lift=3, min_length=2, max_length=2)\n",
    "aprio"
   ]
  },
  {
   "cell_type": "code",
   "execution_count": 777,
   "id": "155e3407",
   "metadata": {},
   "outputs": [
    {
     "name": "stdout",
     "output_type": "stream",
     "text": [
      "Rule: buns -> rolls\n",
      "Support value: 0.10940319454654815\n",
      "Confidence Value: 1.0\n",
      "Lift: 9.134920634920634\n",
      "*************************************\n",
      "Rule: vegetable juice -> fruit\n",
      "Support value: 0.03328209583639644\n",
      "Confidence Value: 0.9803149606299213\n",
      "Lift: 29.454724409448822\n",
      "*************************************\n",
      "Rule: whipped -> sour cream\n",
      "Support value: 0.0429726659092428\n",
      "Confidence Value: 1.0\n",
      "Lift: 23.12673879443586\n",
      "*************************************\n"
     ]
    }
   ],
   "source": [
    "sav = list(aprio)\n",
    "for item in sav:\n",
    "\n",
    "    # Saving the indexes of the the list we created for the content\n",
    "    pair = item[0] \n",
    "    items = [x for x in pair]\n",
    "    print(\"Rule: \" + items[0] + \" -> \" + items[1])\n",
    "    print(\"Support value: \" + str(item[1]))\n",
    "    \n",
    "    print(\"Confidence Value: \" + str(item[2][0][2]))\n",
    "    print(\"Lift: \" + str(item[2][0][3]))\n",
    "    print (\"*************************************\")\n",
    "   "
   ]
  },
  {
   "cell_type": "code",
   "execution_count": 778,
   "id": "350b985b",
   "metadata": {},
   "outputs": [
    {
     "data": {
      "text/plain": [
       "[RelationRecord(items=frozenset({'buns', 'rolls'}), support=0.10940319454654815, ordered_statistics=[OrderedStatistic(items_base=frozenset({'buns'}), items_add=frozenset({'rolls'}), confidence=1.0, lift=9.134920634920634), OrderedStatistic(items_base=frozenset({'rolls'}), items_add=frozenset({'buns'}), confidence=0.9993894993894994, lift=9.134920634920634)]),\n",
       " RelationRecord(items=frozenset({'vegetable juice', 'fruit'}), support=0.03328209583639644, ordered_statistics=[OrderedStatistic(items_base=frozenset({'fruit'}), items_add=frozenset({'vegetable juice'}), confidence=0.9803149606299213, lift=29.454724409448822), OrderedStatistic(items_base=frozenset({'vegetable juice'}), items_add=frozenset({'fruit'}), confidence=1.0, lift=29.454724409448822)]),\n",
       " RelationRecord(items=frozenset({'whipped', 'sour cream'}), support=0.0429726659092428, ordered_statistics=[OrderedStatistic(items_base=frozenset({'sour cream'}), items_add=frozenset({'whipped'}), confidence=1.0, lift=23.12673879443586), OrderedStatistic(items_base=frozenset({'whipped'}), items_add=frozenset({'sour cream'}), confidence=0.9938176197836167, lift=23.12673879443586)])]"
      ]
     },
     "execution_count": 778,
     "metadata": {},
     "output_type": "execute_result"
    }
   ],
   "source": [
    "sav"
   ]
  },
  {
   "cell_type": "code",
   "execution_count": 779,
   "id": "65b94bc4",
   "metadata": {},
   "outputs": [
    {
     "data": {
      "text/plain": [
       "<generator object apriori at 0x00000253E6E902E0>"
      ]
     },
     "execution_count": 779,
     "metadata": {},
     "output_type": "execute_result"
    }
   ],
   "source": [
    "# Creating the model\n",
    "\n",
    "aprio = apriori(transactions=content, min_support=0.0005, min_confidence=0.0025, min_lift=3, min_length=2, max_length=2)\n",
    "aprio\n"
   ]
  },
  {
   "cell_type": "code",
   "execution_count": 780,
   "id": "09657f17",
   "metadata": {},
   "outputs": [
    {
     "name": "stdout",
     "output_type": "stream",
     "text": [
      "Rule: bags -> cling film\n",
      "Support value: 0.004945532313038829\n",
      "Confidence Value: 0.9487179487179487\n",
      "Lift: 191.83333333333331\n",
      "*************************************\n",
      "Rule: red -> blush wine\n",
      "Support value: 0.010425716768027803\n",
      "Confidence Value: 1.0\n",
      "Lift: 95.30573248407643\n",
      "*************************************\n",
      "Rule: buns -> rolls\n",
      "Support value: 0.10940319454654815\n",
      "Confidence Value: 1.0\n",
      "Lift: 9.134920634920634\n",
      "*************************************\n",
      "Rule: fertilizer -> flower soil\n",
      "Support value: 0.0010693042839002875\n",
      "Confidence Value: 1.0\n",
      "Lift: 935.1874999999999\n",
      "*************************************\n",
      "Rule: film -> photo\n",
      "Support value: 0.005212858384013901\n",
      "Confidence Value: 1.0\n",
      "Lift: 191.83333333333331\n",
      "*************************************\n",
      "Rule: vegetable juice -> fruit\n",
      "Support value: 0.03328209583639644\n",
      "Confidence Value: 0.9803149606299213\n",
      "Lift: 29.454724409448822\n",
      "*************************************\n",
      "Rule: nuts -> prunes\n",
      "Support value: 0.002205440085544343\n",
      "Confidence Value: 1.0\n",
      "Lift: 453.4242424242424\n",
      "*************************************\n",
      "Rule: packaged fruit -> vegetables\n",
      "Support value: 0.008220276682483459\n",
      "Confidence Value: 0.9761904761904763\n",
      "Lift: 118.75396825396827\n",
      "*************************************\n",
      "Rule: whipped -> sour cream\n",
      "Support value: 0.0429726659092428\n",
      "Confidence Value: 1.0\n",
      "Lift: 23.12673879443586\n",
      "*************************************\n"
     ]
    }
   ],
   "source": [
    "sav = list(aprio)\n",
    "for item in sav:\n",
    "\n",
    "    # Saving the indexes of the the list we created for the content\n",
    "    pair = item[0] \n",
    "    items = [x for x in pair]\n",
    "    print(\"Rule: \" + items[0] + \" -> \" + items[1])\n",
    "    print(\"Support value: \" + str(item[1]))\n",
    "    \n",
    "    print(\"Confidence Value: \" + str(item[2][0][2]))\n",
    "    print(\"Lift: \" + str(item[2][0][3]))\n",
    "    print (\"*************************************\")"
   ]
  },
  {
   "cell_type": "code",
   "execution_count": 781,
   "id": "f6d36c5b",
   "metadata": {},
   "outputs": [
    {
     "data": {
      "text/plain": [
       "[RelationRecord(items=frozenset({'bags', 'cling film'}), support=0.004945532313038829, ordered_statistics=[OrderedStatistic(items_base=frozenset({'bags'}), items_add=frozenset({'cling film'}), confidence=0.9487179487179487, lift=191.83333333333331), OrderedStatistic(items_base=frozenset({'cling film'}), items_add=frozenset({'bags'}), confidence=1.0, lift=191.83333333333331)]),\n",
       " RelationRecord(items=frozenset({'red', 'blush wine'}), support=0.010425716768027803, ordered_statistics=[OrderedStatistic(items_base=frozenset({'blush wine'}), items_add=frozenset({'red'}), confidence=1.0, lift=95.30573248407643), OrderedStatistic(items_base=frozenset({'red'}), items_add=frozenset({'blush wine'}), confidence=0.9936305732484076, lift=95.30573248407643)]),\n",
       " RelationRecord(items=frozenset({'buns', 'rolls'}), support=0.10940319454654815, ordered_statistics=[OrderedStatistic(items_base=frozenset({'buns'}), items_add=frozenset({'rolls'}), confidence=1.0, lift=9.134920634920634), OrderedStatistic(items_base=frozenset({'rolls'}), items_add=frozenset({'buns'}), confidence=0.9993894993894994, lift=9.134920634920634)]),\n",
       " RelationRecord(items=frozenset({'fertilizer', 'flower soil'}), support=0.0010693042839002875, ordered_statistics=[OrderedStatistic(items_base=frozenset({'fertilizer'}), items_add=frozenset({'flower soil'}), confidence=1.0, lift=935.1874999999999), OrderedStatistic(items_base=frozenset({'flower soil'}), items_add=frozenset({'fertilizer'}), confidence=1.0, lift=935.1874999999999)]),\n",
       " RelationRecord(items=frozenset({'film', 'photo'}), support=0.005212858384013901, ordered_statistics=[OrderedStatistic(items_base=frozenset({'film'}), items_add=frozenset({'photo'}), confidence=1.0, lift=191.83333333333331), OrderedStatistic(items_base=frozenset({'photo'}), items_add=frozenset({'film'}), confidence=1.0, lift=191.83333333333331)]),\n",
       " RelationRecord(items=frozenset({'vegetable juice', 'fruit'}), support=0.03328209583639644, ordered_statistics=[OrderedStatistic(items_base=frozenset({'fruit'}), items_add=frozenset({'vegetable juice'}), confidence=0.9803149606299213, lift=29.454724409448822), OrderedStatistic(items_base=frozenset({'vegetable juice'}), items_add=frozenset({'fruit'}), confidence=1.0, lift=29.454724409448822)]),\n",
       " RelationRecord(items=frozenset({'nuts', 'prunes'}), support=0.002205440085544343, ordered_statistics=[OrderedStatistic(items_base=frozenset({'nuts'}), items_add=frozenset({'prunes'}), confidence=1.0, lift=453.4242424242424), OrderedStatistic(items_base=frozenset({'prunes'}), items_add=frozenset({'nuts'}), confidence=1.0, lift=453.4242424242424)]),\n",
       " RelationRecord(items=frozenset({'packaged fruit', 'vegetables'}), support=0.008220276682483459, ordered_statistics=[OrderedStatistic(items_base=frozenset({'packaged fruit'}), items_add=frozenset({'vegetables'}), confidence=0.9761904761904763, lift=118.75396825396827), OrderedStatistic(items_base=frozenset({'vegetables'}), items_add=frozenset({'packaged fruit'}), confidence=1.0, lift=118.75396825396827)]),\n",
       " RelationRecord(items=frozenset({'whipped', 'sour cream'}), support=0.0429726659092428, ordered_statistics=[OrderedStatistic(items_base=frozenset({'sour cream'}), items_add=frozenset({'whipped'}), confidence=1.0, lift=23.12673879443586), OrderedStatistic(items_base=frozenset({'whipped'}), items_add=frozenset({'sour cream'}), confidence=0.9938176197836167, lift=23.12673879443586)])]"
      ]
     },
     "execution_count": 781,
     "metadata": {},
     "output_type": "execute_result"
    }
   ],
   "source": [
    "sav"
   ]
  },
  {
   "cell_type": "markdown",
   "id": "2b01e2c5",
   "metadata": {},
   "source": [
    "### Conclusions "
   ]
  },
  {
   "cell_type": "markdown",
   "id": "26a75fa1",
   "metadata": {},
   "source": [
    "- We can see by changing the values of the confidence and support the model varies. As we increase the value of min_support, the number of frequent itemsets and association rules generated by the Apriori algorithm will decrease. This is because a higher min_support value means that an itemset or association rule must be more frequent in the dataset in order to be considered as valid.\n",
    "\n",
    "- As we increase the value of min_confidence, the number of association rules generated by the Apriori algorithm will decrease. This is because a higher min_confidence value means that an association rule must be more confident (i.e., have a higher probability of being true) in order to be considered as valid."
   ]
  }
 ],
 "metadata": {
  "kernelspec": {
   "display_name": "Python 3 (ipykernel)",
   "language": "python",
   "name": "python3"
  },
  "language_info": {
   "codemirror_mode": {
    "name": "ipython",
    "version": 3
   },
   "file_extension": ".py",
   "mimetype": "text/x-python",
   "name": "python",
   "nbconvert_exporter": "python",
   "pygments_lexer": "ipython3",
   "version": "3.9.12"
  }
 },
 "nbformat": 4,
 "nbformat_minor": 5
}
